{
  "nbformat": 4,
  "nbformat_minor": 0,
  "metadata": {
    "colab": {
      "provenance": [],
      "authorship_tag": "ABX9TyPS8UwsZx12369OVXaHGbVV",
      "include_colab_link": true
    },
    "kernelspec": {
      "name": "python3",
      "display_name": "Python 3"
    },
    "language_info": {
      "name": "python"
    }
  },
  "cells": [
    {
      "cell_type": "markdown",
      "metadata": {
        "id": "view-in-github",
        "colab_type": "text"
      },
      "source": [
        "<a href=\"https://colab.research.google.com/github/kalyanimane/data-science-assignments/blob/main/Hypothesis_testing.ipynb\" target=\"_parent\"><img src=\"https://colab.research.google.com/assets/colab-badge.svg\" alt=\"Open In Colab\"/></a>"
      ]
    },
    {
      "cell_type": "code",
      "execution_count": 1,
      "metadata": {
        "id": "gyr1n12L3A0u"
      },
      "outputs": [],
      "source": [
        "import pandas as pd\n",
        "import numpy as np\n",
        "from scipy import stats"
      ]
    },
    {
      "cell_type": "code",
      "source": [
        "import numpy as np\n",
        "\n",
        "\n",
        "x_bar = 3050\n",
        "n = 25\n",
        "sigma = 5 * 25\n",
        "\n",
        "X = 600\n",
        "mu = 1000 + 5 * X\n",
        "print(f\"Theoretical mean weekly cost (μ): {mu} Rs\")\n",
        "\n",
        "\n",
        "t_statistic = (x_bar - mu) / (sigma / np.sqrt(n))\n",
        "print(f\"Test Statistic (t): {t_statistic}\")\n"
      ],
      "metadata": {
        "colab": {
          "base_uri": "https://localhost:8080/"
        },
        "id": "JyI0iYDY4G1C",
        "outputId": "f4db28f7-95f5-41c8-ae5c-d4c00a6bec6c"
      },
      "execution_count": 4,
      "outputs": [
        {
          "output_type": "stream",
          "name": "stdout",
          "text": [
            "Theoretical mean weekly cost (μ): 4000 Rs\n",
            "Test Statistic (t): -38.0\n"
          ]
        }
      ]
    },
    {
      "cell_type": "code",
      "source": [
        "#stats.t.cdf(t,df)\n",
        "stats.t.cdf(-.38,24)"
      ],
      "metadata": {
        "colab": {
          "base_uri": "https://localhost:8080/"
        },
        "id": "eqXr5GFq1gom",
        "outputId": "9b700f92-0a63-4218-d0cb-22374efe644e"
      },
      "execution_count": 4,
      "outputs": [
        {
          "output_type": "execute_result",
          "data": {
            "text/plain": [
              "0.35364376119863666"
            ]
          },
          "metadata": {},
          "execution_count": 4
        }
      ]
    },
    {
      "cell_type": "code",
      "source": [
        "import scipy.stats as stats\n",
        "\n",
        "alpha = 0.05   # Define the significance level\n",
        "z_critical = stats.norm.ppf(1 - alpha)\n",
        "\n",
        "z_critical\n",
        "print(\"Rounded Value=\",round(z_critical,4))"
      ],
      "metadata": {
        "colab": {
          "base_uri": "https://localhost:8080/"
        },
        "id": "OP4nT2A01zkK",
        "outputId": "0be07151-2015-42c4-aa0a-fd58ef9b242c"
      },
      "execution_count": 5,
      "outputs": [
        {
          "output_type": "stream",
          "name": "stdout",
          "text": [
            "Rounded Value= 1.6449\n"
          ]
        }
      ]
    },
    {
      "cell_type": "code",
      "source": [
        "## t = -38\n",
        "## z = 1.6449"
      ],
      "metadata": {
        "id": "keMODYvo16Yk"
      },
      "execution_count": 6,
      "outputs": []
    },
    {
      "cell_type": "code",
      "source": [
        "In this case: [ -38 < 1.6449 ]\n",
        "\n",
        " we reject the null hypothesis."
      ],
      "metadata": {
        "id": "0U1I-1y62S29"
      },
      "execution_count": null,
      "outputs": []
    },
    {
      "cell_type": "code",
      "source": [
        "Based on the decision in step 4, there is strong evidence to support the restaurant owners’ claim that the weekly operating\n",
        "costs are higher than the model suggests."
      ],
      "metadata": {
        "id": "4YFaFsEp2Tz5"
      },
      "execution_count": null,
      "outputs": []
    }
  ]
}