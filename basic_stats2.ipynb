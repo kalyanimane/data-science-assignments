{
  "nbformat": 4,
  "nbformat_minor": 0,
  "metadata": {
    "colab": {
      "provenance": [],
      "authorship_tag": "ABX9TyOQv85u2pWmrAUCebfyZAk1",
      "include_colab_link": true
    },
    "kernelspec": {
      "name": "python3",
      "display_name": "Python 3"
    },
    "language_info": {
      "name": "python"
    }
  },
  "cells": [
    {
      "cell_type": "markdown",
      "metadata": {
        "id": "view-in-github",
        "colab_type": "text"
      },
      "source": [
        "<a href=\"https://colab.research.google.com/github/kalyanimane/data-science-assignments/blob/main/basic_stats2.ipynb\" target=\"_parent\"><img src=\"https://colab.research.google.com/assets/colab-badge.svg\" alt=\"Open In Colab\"/></a>"
      ]
    },
    {
      "cell_type": "code",
      "execution_count": 1,
      "metadata": {
        "id": "1md--U1JfzAm"
      },
      "outputs": [],
      "source": [
        "from scipy import stats\n",
        "import pandas as pd\n",
        "import numpy as np"
      ]
    },
    {
      "cell_type": "code",
      "source": [
        "df=np.array([1.13, 1.55, 1.43, 0.92, 1.25, 1.36, 1.32, 0.85, 1.07, 1.48, 1.20, 1.33, 1.18, 1.22, 1.29])"
      ],
      "metadata": {
        "id": "q5iOOhf4gHDG"
      },
      "execution_count": 2,
      "outputs": []
    },
    {
      "cell_type": "code",
      "source": [
        "df"
      ],
      "metadata": {
        "colab": {
          "base_uri": "https://localhost:8080/"
        },
        "id": "Ba2giTHxggAh",
        "outputId": "0d1e1307-85a5-45ee-9c59-81d478951c31"
      },
      "execution_count": 3,
      "outputs": [
        {
          "output_type": "execute_result",
          "data": {
            "text/plain": [
              "array([1.13, 1.55, 1.43, 0.92, 1.25, 1.36, 1.32, 0.85, 1.07, 1.48, 1.2 ,\n",
              "       1.33, 1.18, 1.22, 1.29])"
            ]
          },
          "metadata": {},
          "execution_count": 3
        }
      ]
    },
    {
      "cell_type": "code",
      "source": [
        "d= len(df)"
      ],
      "metadata": {
        "id": "JXD9EwAxgi0h"
      },
      "execution_count": 4,
      "outputs": []
    },
    {
      "cell_type": "code",
      "source": [
        "d"
      ],
      "metadata": {
        "colab": {
          "base_uri": "https://localhost:8080/"
        },
        "id": "iU_7xlcmgn5q",
        "outputId": "cd05b6de-bca6-4269-a02c-32eff10a7084"
      },
      "execution_count": 5,
      "outputs": [
        {
          "output_type": "execute_result",
          "data": {
            "text/plain": [
              "15"
            ]
          },
          "metadata": {},
          "execution_count": 5
        }
      ]
    },
    {
      "cell_type": "code",
      "source": [
        "t_dis=stats.t.interval(0.99,14,\n",
        "                          loc = df.mean(),\n",
        "                          scale = df.std())"
      ],
      "metadata": {
        "id": "8jXJ-RcGgq5g"
      },
      "execution_count": 9,
      "outputs": []
    },
    {
      "cell_type": "code",
      "source": [
        "print(t_dis)"
      ],
      "metadata": {
        "colab": {
          "base_uri": "https://localhost:8080/"
        },
        "id": "KEnsw_a_hdAN",
        "outputId": "64c89e06-1bde-49fd-f161-0e5ba48cf763"
      },
      "execution_count": 10,
      "outputs": [
        {
          "output_type": "stream",
          "name": "stdout",
          "text": [
            "(0.6831453079923472, 1.7941880253409859)\n"
          ]
        }
      ]
    },
    {
      "cell_type": "code",
      "source": [
        "print('Mean at 99% confidence interval is:', np.round(t_dis, 4))"
      ],
      "metadata": {
        "colab": {
          "base_uri": "https://localhost:8080/"
        },
        "id": "1l7g_-e4hlNX",
        "outputId": "d0cf82d2-cbcb-48cf-b658-71b3d2fa7e52"
      },
      "execution_count": 11,
      "outputs": [
        {
          "output_type": "stream",
          "name": "stdout",
          "text": [
            "Mean at 99% confidence interval is: [0.6831 1.7942]\n"
          ]
        }
      ]
    },
    {
      "cell_type": "code",
      "source": [
        "stats.t.ppf(0.99,14)"
      ],
      "metadata": {
        "colab": {
          "base_uri": "https://localhost:8080/"
        },
        "id": "MNb8Goinh84V",
        "outputId": "a1936391-921c-4a94-ff79-9208fff69b3d"
      },
      "execution_count": 12,
      "outputs": [
        {
          "output_type": "execute_result",
          "data": {
            "text/plain": [
              "2.624494067560231"
            ]
          },
          "metadata": {},
          "execution_count": 12
        }
      ]
    },
    {
      "cell_type": "code",
      "source": [
        "#we have to use t distribution as we dont know sigma for that we a function that is ,stats.t.interval"
      ],
      "metadata": {
        "id": "cPI9oU6-ieJQ"
      },
      "execution_count": 13,
      "outputs": []
    },
    {
      "cell_type": "code",
      "source": [
        "df_std =0.2"
      ],
      "metadata": {
        "id": "0TqZjeO8i1UZ"
      },
      "execution_count": 14,
      "outputs": []
    },
    {
      "cell_type": "code",
      "source": [
        "z_dis =stats.norm.interval(0.99,\n",
        "loc = df.mean(),\n",
        "scale =0.2)\n",
        "print(z_dis)\n",
        "print('Mean at 99% confidence interval is:',np.round(z_dis, 4))"
      ],
      "metadata": {
        "colab": {
          "base_uri": "https://localhost:8080/"
        },
        "id": "AxGAvA_ni617",
        "outputId": "d73dc067-44e1-4e89-8b9a-32f0db9c5d7b"
      },
      "execution_count": 15,
      "outputs": [
        {
          "output_type": "stream",
          "name": "stdout",
          "text": [
            "(0.7235008059568865, 1.7538325273764466)\n",
            "Mean at 99% confidence interval is: [0.7235 1.7538]\n"
          ]
        }
      ]
    },
    {
      "cell_type": "code",
      "source": [],
      "metadata": {
        "id": "l2q6nEy1mNu4"
      },
      "execution_count": null,
      "outputs": []
    },
    {
      "cell_type": "code",
      "source": [],
      "metadata": {
        "id": "WOPVpid9k7wB"
      },
      "execution_count": null,
      "outputs": []
    },
    {
      "cell_type": "code",
      "source": [],
      "metadata": {
        "id": "5rTaQzw0lzU9"
      },
      "execution_count": null,
      "outputs": []
    }
  ]
}