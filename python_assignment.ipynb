{
  "nbformat": 4,
  "nbformat_minor": 0,
  "metadata": {
    "colab": {
      "provenance": [],
      "authorship_tag": "ABX9TyO0G2fHA15iQqTt9D5BXxou",
      "include_colab_link": true
    },
    "kernelspec": {
      "name": "python3",
      "display_name": "Python 3"
    },
    "language_info": {
      "name": "python"
    }
  },
  "cells": [
    {
      "cell_type": "markdown",
      "metadata": {
        "id": "view-in-github",
        "colab_type": "text"
      },
      "source": [
        "<a href=\"https://colab.research.google.com/github/kalyanimane/data-science-assignments/blob/main/python_assignment.ipynb\" target=\"_parent\"><img src=\"https://colab.research.google.com/assets/colab-badge.svg\" alt=\"Open In Colab\"/></a>"
      ]
    },
    {
      "cell_type": "code",
      "execution_count": null,
      "metadata": {
        "id": "oXUIbE32ZaCa"
      },
      "outputs": [],
      "source": [
        "Prime Number"
      ]
    },
    {
      "cell_type": "code",
      "source": [
        "num = int(input(\"enter a number\"));\n",
        "for i in range(2,num):\n",
        "    if num % i == 0:\n",
        "        print(\"Number is not a Prime Number\")\n",
        "        break\n",
        "    else:\n",
        "        print(\"Number is a Prime NUmber\")\n",
        "        break\n"
      ],
      "metadata": {
        "colab": {
          "base_uri": "https://localhost:8080/"
        },
        "id": "EdYp0TR0Z79l",
        "outputId": "c0a56a38-5ca5-4d48-ac1a-04e52c13b89b"
      },
      "execution_count": 2,
      "outputs": [
        {
          "output_type": "stream",
          "name": "stdout",
          "text": [
            "enter a number7\n",
            "Number is a Prime NUmber\n"
          ]
        }
      ]
    },
    {
      "cell_type": "code",
      "source": [
        "product of random number"
      ],
      "metadata": {
        "id": "veY3Mil2aBcr"
      },
      "execution_count": null,
      "outputs": []
    },
    {
      "cell_type": "code",
      "source": [
        "import random\n",
        "x = random.randint(1,10)\n",
        "y = random.randint(1,10)\n",
        "\n"
      ],
      "metadata": {
        "id": "AyV4DJQWaGkW"
      },
      "execution_count": 3,
      "outputs": []
    },
    {
      "cell_type": "code",
      "source": [
        "\n",
        "y"
      ],
      "metadata": {
        "colab": {
          "base_uri": "https://localhost:8080/"
        },
        "id": "nyuIEq2uaK4g",
        "outputId": "ecfe6e70-d854-4c5a-a6bb-9d43862733cd"
      },
      "execution_count": 4,
      "outputs": [
        {
          "output_type": "execute_result",
          "data": {
            "text/plain": [
              "10"
            ]
          },
          "metadata": {},
          "execution_count": 4
        }
      ]
    },
    {
      "cell_type": "code",
      "source": [
        "x"
      ],
      "metadata": {
        "colab": {
          "base_uri": "https://localhost:8080/"
        },
        "id": "wZxxgjJYaPqH",
        "outputId": "551467be-ccf8-4a0d-d1a6-ce581be93783"
      },
      "execution_count": 5,
      "outputs": [
        {
          "output_type": "execute_result",
          "data": {
            "text/plain": [
              "9"
            ]
          },
          "metadata": {},
          "execution_count": 5
        }
      ]
    },
    {
      "cell_type": "code",
      "source": [
        "z = int(input(\"enter the product of x and y : \"));\n",
        "if(z==x*y):\n",
        "    print(\"good job answer is correct\");\n",
        "else:\n",
        "    print(\" please try again\");\n",
        "\n"
      ],
      "metadata": {
        "colab": {
          "base_uri": "https://localhost:8080/"
        },
        "id": "mQfdGLO4aSaV",
        "outputId": "efb28f77-26c8-4a50-e383-b90451500fe6"
      },
      "execution_count": 7,
      "outputs": [
        {
          "output_type": "stream",
          "name": "stdout",
          "text": [
            "enter the product of x and y : 30\n",
            " please try again\n"
          ]
        }
      ]
    },
    {
      "cell_type": "code",
      "source": [
        "squares of even/odd numbers"
      ],
      "metadata": {
        "id": "RTmSyPBjagxK"
      },
      "execution_count": null,
      "outputs": []
    },
    {
      "cell_type": "code",
      "source": [
        "a=100\n",
        "b=200\n",
        "for i in range (a,b+1):\n",
        "    if (i%2==0):\n",
        "        print(\"number is even\",i,\"and squre is\",i*i);\n",
        "    else:\n",
        "        print(\"number is odd\",i,\"and squre is \",i*i);"
      ],
      "metadata": {
        "colab": {
          "base_uri": "https://localhost:8080/"
        },
        "id": "z_cfmpRpai6Y",
        "outputId": "5e1f25b5-40a5-4a1d-ee80-d2f6f27109b2"
      },
      "execution_count": 8,
      "outputs": [
        {
          "output_type": "stream",
          "name": "stdout",
          "text": [
            "number is even 100 and squre is 10000\n",
            "number is odd 101 and squre is  10201\n",
            "number is even 102 and squre is 10404\n",
            "number is odd 103 and squre is  10609\n",
            "number is even 104 and squre is 10816\n",
            "number is odd 105 and squre is  11025\n",
            "number is even 106 and squre is 11236\n",
            "number is odd 107 and squre is  11449\n",
            "number is even 108 and squre is 11664\n",
            "number is odd 109 and squre is  11881\n",
            "number is even 110 and squre is 12100\n",
            "number is odd 111 and squre is  12321\n",
            "number is even 112 and squre is 12544\n",
            "number is odd 113 and squre is  12769\n",
            "number is even 114 and squre is 12996\n",
            "number is odd 115 and squre is  13225\n",
            "number is even 116 and squre is 13456\n",
            "number is odd 117 and squre is  13689\n",
            "number is even 118 and squre is 13924\n",
            "number is odd 119 and squre is  14161\n",
            "number is even 120 and squre is 14400\n",
            "number is odd 121 and squre is  14641\n",
            "number is even 122 and squre is 14884\n",
            "number is odd 123 and squre is  15129\n",
            "number is even 124 and squre is 15376\n",
            "number is odd 125 and squre is  15625\n",
            "number is even 126 and squre is 15876\n",
            "number is odd 127 and squre is  16129\n",
            "number is even 128 and squre is 16384\n",
            "number is odd 129 and squre is  16641\n",
            "number is even 130 and squre is 16900\n",
            "number is odd 131 and squre is  17161\n",
            "number is even 132 and squre is 17424\n",
            "number is odd 133 and squre is  17689\n",
            "number is even 134 and squre is 17956\n",
            "number is odd 135 and squre is  18225\n",
            "number is even 136 and squre is 18496\n",
            "number is odd 137 and squre is  18769\n",
            "number is even 138 and squre is 19044\n",
            "number is odd 139 and squre is  19321\n",
            "number is even 140 and squre is 19600\n",
            "number is odd 141 and squre is  19881\n",
            "number is even 142 and squre is 20164\n",
            "number is odd 143 and squre is  20449\n",
            "number is even 144 and squre is 20736\n",
            "number is odd 145 and squre is  21025\n",
            "number is even 146 and squre is 21316\n",
            "number is odd 147 and squre is  21609\n",
            "number is even 148 and squre is 21904\n",
            "number is odd 149 and squre is  22201\n",
            "number is even 150 and squre is 22500\n",
            "number is odd 151 and squre is  22801\n",
            "number is even 152 and squre is 23104\n",
            "number is odd 153 and squre is  23409\n",
            "number is even 154 and squre is 23716\n",
            "number is odd 155 and squre is  24025\n",
            "number is even 156 and squre is 24336\n",
            "number is odd 157 and squre is  24649\n",
            "number is even 158 and squre is 24964\n",
            "number is odd 159 and squre is  25281\n",
            "number is even 160 and squre is 25600\n",
            "number is odd 161 and squre is  25921\n",
            "number is even 162 and squre is 26244\n",
            "number is odd 163 and squre is  26569\n",
            "number is even 164 and squre is 26896\n",
            "number is odd 165 and squre is  27225\n",
            "number is even 166 and squre is 27556\n",
            "number is odd 167 and squre is  27889\n",
            "number is even 168 and squre is 28224\n",
            "number is odd 169 and squre is  28561\n",
            "number is even 170 and squre is 28900\n",
            "number is odd 171 and squre is  29241\n",
            "number is even 172 and squre is 29584\n",
            "number is odd 173 and squre is  29929\n",
            "number is even 174 and squre is 30276\n",
            "number is odd 175 and squre is  30625\n",
            "number is even 176 and squre is 30976\n",
            "number is odd 177 and squre is  31329\n",
            "number is even 178 and squre is 31684\n",
            "number is odd 179 and squre is  32041\n",
            "number is even 180 and squre is 32400\n",
            "number is odd 181 and squre is  32761\n",
            "number is even 182 and squre is 33124\n",
            "number is odd 183 and squre is  33489\n",
            "number is even 184 and squre is 33856\n",
            "number is odd 185 and squre is  34225\n",
            "number is even 186 and squre is 34596\n",
            "number is odd 187 and squre is  34969\n",
            "number is even 188 and squre is 35344\n",
            "number is odd 189 and squre is  35721\n",
            "number is even 190 and squre is 36100\n",
            "number is odd 191 and squre is  36481\n",
            "number is even 192 and squre is 36864\n",
            "number is odd 193 and squre is  37249\n",
            "number is even 194 and squre is 37636\n",
            "number is odd 195 and squre is  38025\n",
            "number is even 196 and squre is 38416\n",
            "number is odd 197 and squre is  38809\n",
            "number is even 198 and squre is 39204\n",
            "number is odd 199 and squre is  39601\n",
            "number is even 200 and squre is 40000\n"
          ]
        }
      ]
    },
    {
      "cell_type": "code",
      "source": [
        "import string\n",
        "input_text = \"This is a sample text. This text will be used to demonstrate the word counter.\"\n",
        "\n",
        "input_text = input_text.lower()\n",
        "\n",
        "input_text = input_text.translate(str.maketrans(\"\", \"\", string.punctuation))\n",
        "words = input_text.split()\n",
        "word_count = {}\n",
        "\n",
        "for word in words:\n",
        "    if word in word_count:\n",
        "        word_count[word] += 1\n",
        "    else:\n",
        "        word_count[word] = 1\n",
        "\n",
        "for word, count in word_count.items():\n",
        "    print(f\"'{word}': {count}\")"
      ],
      "metadata": {
        "colab": {
          "base_uri": "https://localhost:8080/"
        },
        "id": "QsPoNcPgaubr",
        "outputId": "aab724ab-616d-494b-c40c-5cc86ad00f96"
      },
      "execution_count": 9,
      "outputs": [
        {
          "output_type": "stream",
          "name": "stdout",
          "text": [
            "'this': 2\n",
            "'is': 1\n",
            "'a': 1\n",
            "'sample': 1\n",
            "'text': 2\n",
            "'will': 1\n",
            "'be': 1\n",
            "'used': 1\n",
            "'to': 1\n",
            "'demonstrate': 1\n",
            "'the': 1\n",
            "'word': 1\n",
            "'counter': 1\n"
          ]
        }
      ]
    },
    {
      "cell_type": "code",
      "source": [
        "check for palindrome"
      ],
      "metadata": {
        "id": "Kq2qoZ1eaxkE"
      },
      "execution_count": null,
      "outputs": []
    },
    {
      "cell_type": "code",
      "source": [
        "x = input(\" Enter your Word or Number  \");\n",
        "y=x[-1::-1]\n",
        "if(x==y):\n",
        "    print(\"Is a palindrome \");\n",
        "else:\n",
        "    print(\"Not a palindrome \");"
      ],
      "metadata": {
        "colab": {
          "base_uri": "https://localhost:8080/"
        },
        "id": "hgKAdTQua2es",
        "outputId": "c31cf058-c51c-4ece-a992-e502870bafb0"
      },
      "execution_count": 10,
      "outputs": [
        {
          "output_type": "stream",
          "name": "stdout",
          "text": [
            " Enter your Word or Number  45\n",
            "Not a palindrome \n"
          ]
        }
      ]
    }
  ]
}